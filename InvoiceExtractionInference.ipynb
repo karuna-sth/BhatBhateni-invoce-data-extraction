{
 "cells": [
  {
   "cell_type": "markdown",
   "metadata": {},
   "source": [
    "# Inference"
   ]
  },
  {
   "cell_type": "code",
   "execution_count": 1,
   "metadata": {},
   "outputs": [
    {
     "name": "stderr",
     "output_type": "stream",
     "text": [
      "Some weights of VisionEncoderDecoderModel were not initialized from the model checkpoint at invoice-model and are newly initialized: ['decoder.lm_head.weight']\n",
      "You should probably TRAIN this model on a down-stream task to be able to use it for predictions and inference.\n"
     ]
    }
   ],
   "source": [
    "from transformers import DonutProcessor, VisionEncoderDecoderModel\n",
    "\n",
    "processor = DonutProcessor.from_pretrained(\"invoice-model\")\n",
    "model = VisionEncoderDecoderModel.from_pretrained(\"invoice-model\")"
   ]
  },
  {
   "cell_type": "markdown",
   "metadata": {},
   "source": [
    "## Single Inference"
   ]
  },
  {
   "cell_type": "code",
   "execution_count": null,
   "metadata": {},
   "outputs": [
    {
     "data": {
      "text/plain": [
       "{'address': 'KOTESHWOR, KTM, NEPAL',\n",
       " 'vat_no': '300142084',\n",
       " 'bill_no': 'SI537040-KOT-080/81',\n",
       " 'invoice_date': '15/12/2080',\n",
       " 'payment_mode': 'QRCODE',\n",
       " 'gross_amount': '2505.00',\n",
       " 'discount': '62.00',\n",
       " 'net_amount': '2443.00',\n",
       " 'total_qty': '11',\n",
       " 'items': [{'particulars': 'FUCHENG STE',\n",
       "   'item_qty': '1',\n",
       "   'item_rate': '525.00',\n",
       "   'amount': '525.00'},\n",
       "  {'particulars': 'YERA GLASS',\n",
       "   'item_qty': '1',\n",
       "   'item_rate': '270.00',\n",
       "   'amount': '270.00'},\n",
       "  {'particulars': 'POT HOLDER',\n",
       "   'item_qty': '1',\n",
       "   'item_rate': '195.00',\n",
       "   'amount': '195.00'},\n",
       "  {'particulars': 'RELIABLe LU',\n",
       "   'item_qty': '1',\n",
       "   'item_rate': '620.00',\n",
       "   'amount': '620.00'},\n",
       "  {'particulars': 'HANHAN POT',\n",
       "   'item_qty': '1',\n",
       "   'item_rate': '145.00',\n",
       "   'amount': '145.00'},\n",
       "  {'particulars': 'UNION UG-40',\n",
       "   'item_qty': '6',\n",
       "   'item_rate': '125.00',\n",
       "   'amount': '750.00'}]}"
      ]
     },
     "metadata": {},
     "output_type": "display_data"
    }
   ],
   "source": [
    "import re\n",
    "import torch\n",
    "from PIL import Image\n",
    "\n",
    "device = \"cuda\" if torch.cuda.is_available() else \"cpu\"\n",
    "\n",
    "model.eval()\n",
    "model.to(device)\n",
    "\n",
    "pixel_values = processor(Image.open(\"data/test/16.jpeg\").convert(\"RGB\"), return_tensors=\"pt\").pixel_values\n",
    "pixel_values = pixel_values.to(device)\n",
    "# prepare decoder inputs\n",
    "task_prompt = \"<s_cord-v2>\"\n",
    "decoder_input_ids = processor.tokenizer(task_prompt, add_special_tokens=False, return_tensors=\"pt\").input_ids\n",
    "decoder_input_ids = decoder_input_ids.to(device)\n",
    "\n",
    "# autoregressively generate sequence\n",
    "outputs = model.generate(\n",
    "        pixel_values,\n",
    "        decoder_input_ids=decoder_input_ids,\n",
    "        max_length=model.decoder.config.max_position_embeddings,\n",
    "        early_stopping=True,\n",
    "        pad_token_id=processor.tokenizer.pad_token_id,\n",
    "        eos_token_id=processor.tokenizer.eos_token_id,\n",
    "        use_cache=True,\n",
    "        num_beams=1,\n",
    "        bad_words_ids=[[processor.tokenizer.unk_token_id]],\n",
    "        return_dict_in_generate=True,\n",
    "    )\n",
    "\n",
    "# turn into JSON\n",
    "seq = processor.batch_decode(outputs.sequences)[0]\n",
    "seq = seq.replace(processor.tokenizer.eos_token, \"\").replace(processor.tokenizer.pad_token, \"\")\n",
    "seq = re.sub(r\"<.*?>\", \"\", seq, count=1).strip()  # remove first task start token\n",
    "seq = processor.token2json(seq)\n",
    "seq"
   ]
  },
  {
   "cell_type": "markdown",
   "metadata": {},
   "source": [
    "## Bulk Inference and Evaulation"
   ]
  },
  {
   "cell_type": "code",
   "execution_count": 3,
   "metadata": {},
   "outputs": [
    {
     "data": {
      "application/vnd.jupyter.widget-view+json": {
       "model_id": "a0bb1789855c42a78c6eb15133bc3915",
       "version_major": 2,
       "version_minor": 0
      },
      "text/plain": [
       "Resolving data files:   0%|          | 0/74 [00:00<?, ?it/s]"
      ]
     },
     "metadata": {},
     "output_type": "display_data"
    },
    {
     "data": {
      "application/vnd.jupyter.widget-view+json": {
       "model_id": "9cbc0cbaa9074afea783b114e46b047e",
       "version_major": 2,
       "version_minor": 0
      },
      "text/plain": [
       "  0%|          | 0/5 [00:00<?, ?it/s]"
      ]
     },
     "metadata": {},
     "output_type": "display_data"
    },
    {
     "name": "stdout",
     "output_type": "stream",
     "text": [
      "{'accuracies': [0.9911504424778761, 0.990909090909091, 0.9797979797979798, 0.9962546816479401, 0.992831541218638], 'mean_accuracy': 0.9901887472103048} length : 5\n"
     ]
    }
   ],
   "source": [
    "import re\n",
    "import json\n",
    "import torch\n",
    "from tqdm.auto import tqdm\n",
    "import numpy as np\n",
    "\n",
    "from donut import JSONParseEvaluator\n",
    "\n",
    "from datasets import load_dataset\n",
    "\n",
    "device = \"cuda\" if torch.cuda.is_available() else \"cpu\"\n",
    "\n",
    "model.eval()\n",
    "model.to(device)\n",
    "\n",
    "output_list = []\n",
    "accs = []\n",
    "\n",
    "dataset = load_dataset(\"data\", split=\"test\")\n",
    "\n",
    "for idx, sample in tqdm(enumerate(dataset), total=len(dataset)):\n",
    "    # prepare encoder inputs\n",
    "    pixel_values = processor(sample[\"image\"].convert(\"RGB\"), return_tensors=\"pt\").pixel_values\n",
    "    pixel_values = pixel_values.to(device)\n",
    "    # prepare decoder inputs\n",
    "    task_prompt = \"<s_cord-v2>\"\n",
    "    decoder_input_ids = processor.tokenizer(task_prompt, add_special_tokens=False, return_tensors=\"pt\").input_ids\n",
    "    decoder_input_ids = decoder_input_ids.to(device)\n",
    "    \n",
    "    # autoregressively generate sequence\n",
    "    outputs = model.generate(\n",
    "            pixel_values,\n",
    "            decoder_input_ids=decoder_input_ids,\n",
    "            max_length=model.decoder.config.max_position_embeddings,\n",
    "            early_stopping=True,\n",
    "            pad_token_id=processor.tokenizer.pad_token_id,\n",
    "            eos_token_id=processor.tokenizer.eos_token_id,\n",
    "            use_cache=True,\n",
    "            num_beams=1,\n",
    "            bad_words_ids=[[processor.tokenizer.unk_token_id]],\n",
    "            return_dict_in_generate=True,\n",
    "        )\n",
    "\n",
    "    # turn into JSON\n",
    "    seq = processor.batch_decode(outputs.sequences)[0]\n",
    "    seq = seq.replace(processor.tokenizer.eos_token, \"\").replace(processor.tokenizer.pad_token, \"\")\n",
    "    seq = re.sub(r\"<.*?>\", \"\", seq, count=1).strip()  # remove first task start token\n",
    "    seq = processor.token2json(seq)\n",
    "\n",
    "    ground_truth = json.loads(sample[\"ground_truth\"])\n",
    "    ground_truth = ground_truth[\"gt_parse\"]\n",
    "    evaluator = JSONParseEvaluator()\n",
    "    score = evaluator.cal_acc(seq, ground_truth)\n",
    "\n",
    "    accs.append(score)\n",
    "    output_list.append(seq)\n",
    "\n",
    "scores = {\"accuracies\": accs, \"mean_accuracy\": np.mean(accs)}\n",
    "print(scores, f\"length : {len(accs)}\")"
   ]
  },
  {
   "cell_type": "code",
   "execution_count": 4,
   "metadata": {},
   "outputs": [
    {
     "name": "stdout",
     "output_type": "stream",
     "text": [
      "Mean accuracy: 0.9901887472103048\n"
     ]
    }
   ],
   "source": [
    "print(\"Mean accuracy:\", np.mean(accs))"
   ]
  },
  {
   "cell_type": "code",
   "execution_count": 5,
   "metadata": {},
   "outputs": [
    {
     "data": {
      "text/plain": [
       "[{'address': 'KOTESHWOR, KTM, NEPAL',\n",
       "  'vat_no': '300142084',\n",
       "  'bill_no': 'SI672395-KOT-080/81',\n",
       "  'invoice_date': '13/02/2081',\n",
       "  'payment_mode': 'QRCODE',\n",
       "  'net_amount': '3445.00',\n",
       "  'total_qty': '1',\n",
       "  'items': {'particulars': 'DIRK & BROW',\n",
       "   'item_qty': '1',\n",
       "   'item_rate': '3445.00',\n",
       "   'amount': '3445.00'}},\n",
       " {'address': 'KOTESHWOR, KTM, NEPAL',\n",
       "  'vat_no': '300142084',\n",
       "  'bill_no': 'SI672407-KOT-080/81',\n",
       "  'invoice_date': '13/02/2081',\n",
       "  'payment_mode': 'Cash',\n",
       "  'net_amount': '2639.00',\n",
       "  'total_qty': '1',\n",
       "  'items': {'particulars': 'AIBOASS MEN',\n",
       "   'item_qty': '1',\n",
       "   'item_rate': '2639.00',\n",
       "   'amount': '2639.00'}},\n",
       " {'address': 'BHAKTAPUR, NEPAL',\n",
       "  'vat_no': '300142084',\n",
       "  'bill_no': 'SI954816-BKT-080/81',\n",
       "  'invoice_date': '15/02/2081',\n",
       "  'payment_mode': 'Cash',\n",
       "  'net_amount': '50.00',\n",
       "  'total_qty': '1',\n",
       "  'items': {'particulars': 'COCA COLA Z',\n",
       "   'item_qty': '1',\n",
       "   'item_rate': '50.00',\n",
       "   'amount': '50.00'}},\n",
       " {'address': 'KOTESHWOR, KTM, NEPAL',\n",
       "  'vat_no': '300142084',\n",
       "  'bill_no': 'SI537040-KOT-080/81',\n",
       "  'invoice_date': '15/12/2080',\n",
       "  'payment_mode': 'QRCODE',\n",
       "  'gross_amount': '2505.00',\n",
       "  'discount': '62.00',\n",
       "  'net_amount': '2443.00',\n",
       "  'total_qty': '11',\n",
       "  'items': [{'particulars': 'FUCHENG STE',\n",
       "    'item_qty': '1',\n",
       "    'item_rate': '525.00',\n",
       "    'amount': '525.00'},\n",
       "   {'particulars': 'YERA GLASS',\n",
       "    'item_qty': '1',\n",
       "    'item_rate': '270.00',\n",
       "    'amount': '270.00'},\n",
       "   {'particulars': 'POT HOLDER',\n",
       "    'item_qty': '1',\n",
       "    'item_rate': '195.00',\n",
       "    'amount': '195.00'},\n",
       "   {'particulars': 'RELIABLe LU',\n",
       "    'item_qty': '1',\n",
       "    'item_rate': '620.00',\n",
       "    'amount': '620.00'},\n",
       "   {'particulars': 'HANHAN POT',\n",
       "    'item_qty': '1',\n",
       "    'item_rate': '145.00',\n",
       "    'amount': '145.00'},\n",
       "   {'particulars': 'UNION UG-40',\n",
       "    'item_qty': '6',\n",
       "    'item_rate': '125.00',\n",
       "    'amount': '750.00'}]},\n",
       " {'address': 'NAXAL, KTM, NEPAL',\n",
       "  'vat_no': '300142084',\n",
       "  'bill_no': 'SI997200-BBB-080/81',\n",
       "  'invoice_date': '03/03/2081',\n",
       "  'payment_mode': 'QRCODE',\n",
       "  'net_amount': '2428.00',\n",
       "  'total_qty': '7',\n",
       "  'items': [{'particulars': 'WILD STONE',\n",
       "    'item_qty': '1',\n",
       "    'item_rate': '336.00',\n",
       "    'amount': '336.00'},\n",
       "   {'particulars': 'COLGATE ACT',\n",
       "    'item_qty': '1',\n",
       "    'item_rate': '224.00',\n",
       "    'amount': '224.00'},\n",
       "   {'particulars': 'NESCAFE GOL',\n",
       "    'item_qty': '1',\n",
       "    'item_rate': '1052.00',\n",
       "    'amount': '1052.00'},\n",
       "   {'particulars': 'VASELINE IN',\n",
       "    'item_qty': '1',\n",
       "    'item_rate': '1311.00',\n",
       "    'amount': '131.00'},\n",
       "   {'particulars': 'HIT ANTI RO',\n",
       "    'item_qty': '1',\n",
       "    'item_rate': '467.00',\n",
       "    'amount': '467.00'},\n",
       "   {'particulars': 'ORAL-B T/B',\n",
       "    'item_qty': '1',\n",
       "    'item_rate': '190.00',\n",
       "    'amount': '190.00'},\n",
       "   {'particulars': 'HIT CHALK K',\n",
       "    'item_qty': '1',\n",
       "    'item_rate': '28.00',\n",
       "    'amount': '28.00'}]}]"
      ]
     },
     "execution_count": 5,
     "metadata": {},
     "output_type": "execute_result"
    }
   ],
   "source": [
    "output_list"
   ]
  }
 ],
 "metadata": {
  "kernelspec": {
   "display_name": "ml",
   "language": "python",
   "name": "python3"
  },
  "language_info": {
   "codemirror_mode": {
    "name": "ipython",
    "version": 3
   },
   "file_extension": ".py",
   "mimetype": "text/x-python",
   "name": "python",
   "nbconvert_exporter": "python",
   "pygments_lexer": "ipython3",
   "version": "3.11.9"
  }
 },
 "nbformat": 4,
 "nbformat_minor": 2
}
